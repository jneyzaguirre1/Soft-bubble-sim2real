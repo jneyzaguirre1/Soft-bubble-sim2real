{
 "cells": [
  {
   "cell_type": "markdown",
   "metadata": {},
   "source": [
    "## Lets create a toy dataset\n",
    "\n",
    "\n",
    "First we import the necessary libraries to create the dataset.\n"
   ]
  },
  {
   "cell_type": "code",
   "execution_count": 1,
   "metadata": {},
   "outputs": [],
   "source": [
    "import os\n",
    "import numpy as np"
   ]
  },
  {
   "cell_type": "markdown",
   "metadata": {},
   "source": [
    "### Data generation"
   ]
  },
  {
   "cell_type": "markdown",
   "metadata": {},
   "source": [
    "For the toy dataset we have 8 different kinds of shapes, with the following names and indexes:\n",
    "\n",
    "- box           :   0\n",
    "- sphere        :   1\n",
    "- cylinder      :   2\n",
    "- cone          :   3\n",
    "- tetrahedron   :   4\n",
    "- icosahedron   :   5\n",
    "- octahedron    :   6\n",
    "- torus         :   7\n",
    "\n",
    "We start by defining the amount of objects that the dataset is going to use and the amount of depth images pairs we are going to create for each kind of object. We also define the size of each depth image, and the data path."
   ]
  },
  {
   "cell_type": "code",
   "execution_count": 2,
   "metadata": {},
   "outputs": [],
   "source": [
    "OBJS = 8\n",
    "IMAGE_PAIRS_PER_OBJ = 2              # 8 * 1250 = 10000 data objects\n",
    "img_size = (120, 150)\n",
    "my_data_dir = 'datasets/datasets/toy_dataset/'\n",
    "my_data_name = 'serious_toyX'\n"
   ]
  },
  {
   "cell_type": "markdown",
   "metadata": {},
   "source": [
    "Now we fill a dictionary with the different arguments to generate the data."
   ]
  },
  {
   "cell_type": "code",
   "execution_count": 3,
   "metadata": {},
   "outputs": [],
   "source": [
    "kwargs = {}\n",
    "kwargs['obj_index'] = None          # generates one kind of obj if != None (use index of obj) \n",
    "kwargs['data_path'] = os.path.join(my_data_dir, my_data_name)\n",
    "kwargs['scene_name'] = 'scene_test'\n",
    "kwargs['camera_name'] = \"depth_gt\"\n",
    "kwargs['bubble_camera_name'] = \"depth_soft_bubble\"\n",
    "kwargs['img_size'] = img_size\n",
    "kwargs['cam_int'] = np.array([[250.0, 0, img_size[0]/2],\n",
    "                              [0, 250.0, img_size[1]/2],\n",
    "                              [0,     0,             1]], dtype=np.double)\n",
    "kwargs['cam_ext'] = np.array([[1.0, 0.0, 0.0, 0.0], \n",
    "                              [0.0, 1.0, 0.0, 0.0],\n",
    "                              [0.0, 0.0, 1.0, 6.0],\n",
    "                              [0.0, 0.0, 0.0, 1.0]], dtype=np.double)\n",
    "kwargs['rot_limits'] = \"nothing yet\"\n",
    "kwargs['trans_limits'] = \"nothing yet\"\n",
    "kwargs['bg_depth'] = 10.0\n",
    "kwargs['slope'] = 1.5\n",
    "kwargs['debug'] = False\n",
    "kwargs['obj_count'] = IMAGE_PAIRS_PER_OBJ"
   ]
  },
  {
   "cell_type": "markdown",
   "metadata": {},
   "source": [
    "We now create an instance of *MyImageDataCollector* from Mmint Lab tools package, and run the code to generate the data. This can take a while if you are generating too many images."
   ]
  },
  {
   "cell_type": "code",
   "execution_count": 4,
   "metadata": {},
   "outputs": [
    {
     "name": "stdout",
     "output_type": "stream",
     "text": [
      "Jupyter environment detected. Enabling Open3D WebVisualizer.\n",
      "[Open3D INFO] WebRTC GUI backend enabled.\n",
      "[Open3D INFO] WebRTCWindowSystem: HTTP handshake server disabled.\n",
      "_____________________________\n",
      " Data collection has started!\n",
      "  - The data will be saved at /home/jneyza/Documents/UMICH/2024_Winter/ROB590/software/Soft-bubble-sim2real/datasets/datasets/toy_dataset/serious_toyX\n"
     ]
    },
    {
     "name": "stderr",
     "output_type": "stream",
     "text": [
      "Data Collected:   0%|          | 0/16 [00:00<?, ?it/s, Filecode=0]"
     ]
    },
    {
     "name": "stdout",
     "output_type": "stream",
     "text": [
      "FEngine (64 bits) created at 0x7fb1c194c010 (threading is enabled)\n",
      "EGL(1.5)\n",
      "OpenGL(4.1)\n"
     ]
    },
    {
     "name": "stderr",
     "output_type": "stream",
     "text": [
      "Data Collected:   6%|▋         | 1/16 [00:00<00:08,  1.73it/s, Filecode=1]"
     ]
    },
    {
     "name": "stdout",
     "output_type": "stream",
     "text": [
      "FEngine (64 bits) created at 0x91e2670 (threading is enabled)\n",
      "EGL(1.5)\n",
      "OpenGL(4.1)\n"
     ]
    },
    {
     "name": "stderr",
     "output_type": "stream",
     "text": [
      "Data Collected:  12%|█▎        | 2/16 [00:01<00:08,  1.72it/s, Filecode=2]"
     ]
    },
    {
     "name": "stdout",
     "output_type": "stream",
     "text": [
      "FEngine (64 bits) created at 0x91e2670 (threading is enabled)\n",
      "EGL(1.5)\n",
      "OpenGL(4.1)\n"
     ]
    },
    {
     "name": "stderr",
     "output_type": "stream",
     "text": [
      "Data Collected:  19%|█▉        | 3/16 [00:01<00:07,  1.72it/s, Filecode=3]"
     ]
    },
    {
     "name": "stdout",
     "output_type": "stream",
     "text": [
      "FEngine (64 bits) created at 0x91e2670 (threading is enabled)\n",
      "EGL(1.5)\n",
      "OpenGL(4.1)\n"
     ]
    },
    {
     "name": "stderr",
     "output_type": "stream",
     "text": [
      "Data Collected:  25%|██▌       | 4/16 [00:02<00:06,  1.73it/s, Filecode=4]"
     ]
    },
    {
     "name": "stdout",
     "output_type": "stream",
     "text": [
      "FEngine (64 bits) created at 0x91e2670 (threading is enabled)\n",
      "EGL(1.5)\n",
      "OpenGL(4.1)\n"
     ]
    },
    {
     "name": "stderr",
     "output_type": "stream",
     "text": [
      "Data Collected:  31%|███▏      | 5/16 [00:02<00:06,  1.72it/s, Filecode=5]"
     ]
    },
    {
     "name": "stdout",
     "output_type": "stream",
     "text": [
      "FEngine (64 bits) created at 0x91e2670 (threading is enabled)\n",
      "EGL(1.5)\n",
      "OpenGL(4.1)\n"
     ]
    },
    {
     "name": "stderr",
     "output_type": "stream",
     "text": [
      "Data Collected:  38%|███▊      | 6/16 [00:03<00:05,  1.75it/s, Filecode=6]"
     ]
    },
    {
     "name": "stdout",
     "output_type": "stream",
     "text": [
      "FEngine (64 bits) created at 0x91e2670 (threading is enabled)\n",
      "EGL(1.5)\n",
      "OpenGL(4.1)\n"
     ]
    },
    {
     "name": "stderr",
     "output_type": "stream",
     "text": [
      "Data Collected:  44%|████▍     | 7/16 [00:04<00:05,  1.71it/s, Filecode=7]"
     ]
    },
    {
     "name": "stdout",
     "output_type": "stream",
     "text": [
      "FEngine (64 bits) created at 0x91e2670 (threading is enabled)\n",
      "EGL(1.5)\n",
      "OpenGL(4.1)\n"
     ]
    },
    {
     "name": "stderr",
     "output_type": "stream",
     "text": [
      "Data Collected:  50%|█████     | 8/16 [00:04<00:04,  1.71it/s, Filecode=8]"
     ]
    },
    {
     "name": "stdout",
     "output_type": "stream",
     "text": [
      "FEngine (64 bits) created at 0x91e2670 (threading is enabled)\n",
      "EGL(1.5)\n",
      "OpenGL(4.1)\n"
     ]
    },
    {
     "name": "stderr",
     "output_type": "stream",
     "text": [
      "Data Collected:  56%|█████▋    | 9/16 [00:05<00:04,  1.72it/s, Filecode=9]"
     ]
    },
    {
     "name": "stdout",
     "output_type": "stream",
     "text": [
      "FEngine (64 bits) created at 0x91e2670 (threading is enabled)\n",
      "EGL(1.5)\n",
      "OpenGL(4.1)\n",
      "FEngine (64 bits) created at 0x91e2670 (threading is enabled)\n",
      "EGL(1.5)\n",
      "OpenGL(4.1)\n"
     ]
    },
    {
     "name": "stderr",
     "output_type": "stream",
     "text": [
      "Data Collected:  62%|██████▎   | 10/16 [00:05<00:03,  1.69it/s, Filecode=10]"
     ]
    },
    {
     "name": "stdout",
     "output_type": "stream",
     "text": [
      "FEngine (64 bits) created at 0x91e2670 (threading is enabled)\n",
      "EGL(1.5)\n",
      "OpenGL(4.1)\n"
     ]
    },
    {
     "name": "stderr",
     "output_type": "stream",
     "text": [
      "Data Collected:  69%|██████▉   | 11/16 [00:06<00:02,  1.70it/s, Filecode=11]"
     ]
    },
    {
     "name": "stdout",
     "output_type": "stream",
     "text": [
      "FEngine (64 bits) created at 0x91e2670 (threading is enabled)\n",
      "EGL(1.5)\n",
      "OpenGL(4.1)\n"
     ]
    },
    {
     "name": "stderr",
     "output_type": "stream",
     "text": [
      "Data Collected:  75%|███████▌  | 12/16 [00:07<00:02,  1.71it/s, Filecode=12]"
     ]
    },
    {
     "name": "stdout",
     "output_type": "stream",
     "text": [
      "FEngine (64 bits) created at 0x91e2670 (threading is enabled)\n",
      "EGL(1.5)\n",
      "OpenGL(4.1)\n"
     ]
    },
    {
     "name": "stderr",
     "output_type": "stream",
     "text": [
      "Data Collected:  81%|████████▏ | 13/16 [00:07<00:01,  1.72it/s, Filecode=13]"
     ]
    },
    {
     "name": "stdout",
     "output_type": "stream",
     "text": [
      "FEngine (64 bits) created at 0x91e2670 (threading is enabled)\n",
      "EGL(1.5)\n",
      "OpenGL(4.1)\n"
     ]
    },
    {
     "name": "stderr",
     "output_type": "stream",
     "text": [
      "Data Collected:  88%|████████▊ | 14/16 [00:08<00:01,  1.71it/s, Filecode=14]"
     ]
    },
    {
     "name": "stdout",
     "output_type": "stream",
     "text": [
      "FEngine (64 bits) created at 0x91e2670 (threading is enabled)\n",
      "EGL(1.5)\n",
      "OpenGL(4.1)\n"
     ]
    },
    {
     "name": "stderr",
     "output_type": "stream",
     "text": [
      "Data Collected:  94%|█████████▍| 15/16 [00:08<00:00,  1.71it/s, Filecode=15]"
     ]
    },
    {
     "name": "stdout",
     "output_type": "stream",
     "text": [
      "FEngine (64 bits) created at 0x91e2670 (threading is enabled)\n",
      "EGL(1.5)\n",
      "OpenGL(4.1)\n"
     ]
    },
    {
     "name": "stderr",
     "output_type": "stream",
     "text": [
      "Data Collected: 100%|██████████| 16/16 [00:09<00:00,  1.70it/s, Filecode=15]\n"
     ]
    }
   ],
   "source": [
    "from data.data_collector.data_collector import MyImageDataCollector\n",
    "\n",
    "\n",
    "dc = MyImageDataCollector(**kwargs)\n",
    "num_data = OBJS * IMAGE_PAIRS_PER_OBJ\n",
    "dc.collect_data(num_data=num_data)"
   ]
  },
  {
   "cell_type": "markdown",
   "metadata": {},
   "source": [
    "### Dataset creation"
   ]
  },
  {
   "cell_type": "markdown",
   "metadata": {},
   "source": [
    "Now let's create the dataset using another Mmint Lab tool."
   ]
  },
  {
   "cell_type": "code",
   "execution_count": 4,
   "metadata": {},
   "outputs": [
    {
     "name": "stdout",
     "output_type": "stream",
     "text": [
      "Jupyter environment detected. Enabling Open3D WebVisualizer.\n",
      "[Open3D INFO] WebRTC GUI backend enabled.\n",
      "[Open3D INFO] WebRTCWindowSystem: HTTP handshake server disabled.\n",
      "Processing the data and saving it to /home/jneyza/Documents/UMICH/2024_Winter/ROB590/software/Soft-bubble-sim2real/datasets/datasets/toy_dataset/serious_toyX/processed_data/serious_toyX\n"
     ]
    },
    {
     "name": "stderr",
     "output_type": "stream",
     "text": [
      "100%|██████████| 16/16 [00:00<00:00, 450.89it/s]"
     ]
    },
    {
     "name": "stdout",
     "output_type": "stream",
     "text": [
      "Data processed\n"
     ]
    },
    {
     "name": "stderr",
     "output_type": "stream",
     "text": [
      "\n"
     ]
    }
   ],
   "source": [
    "from data.data_collector.legended_dataset import MyImgDataset\n",
    "\n",
    "\n",
    "my_dataset = MyImgDataset(kwargs['data_path'], load_cache=False)"
   ]
  },
  {
   "cell_type": "code",
   "execution_count": null,
   "metadata": {},
   "outputs": [],
   "source": []
  }
 ],
 "metadata": {
  "kernelspec": {
   "display_name": "Python 3",
   "language": "python",
   "name": "python3"
  },
  "language_info": {
   "codemirror_mode": {
    "name": "ipython",
    "version": 3
   },
   "file_extension": ".py",
   "mimetype": "text/x-python",
   "name": "python",
   "nbconvert_exporter": "python",
   "pygments_lexer": "ipython3",
   "version": "3.8.10"
  }
 },
 "nbformat": 4,
 "nbformat_minor": 2
}
